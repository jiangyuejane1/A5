{
 "cells": [
  {
   "cell_type": "code",
   "execution_count": 4,
   "id": "7f419ac0",
   "metadata": {},
   "outputs": [],
   "source": [
    "#Importing all the library I need\n",
    "import pandas as pd\n",
    "import seaborn as sns\n",
    "import matplotlib.pyplot as plt"
   ]
  },
  {
   "cell_type": "code",
   "execution_count": 118,
   "id": "73fc498b",
   "metadata": {},
   "outputs": [],
   "source": [
    "pd.options.display.max_rows = 100"
   ]
  },
  {
   "cell_type": "code",
   "execution_count": 160,
   "id": "48ce070b",
   "metadata": {},
   "outputs": [
    {
     "name": "stderr",
     "output_type": "stream",
     "text": [
      "/var/folders/4j/f9nqxc8x0d7d4l1hxdprjs4r0000gn/T/ipykernel_66775/537445235.py:2: DtypeWarning: Columns (9,13) have mixed types. Specify dtype option on import or set low_memory=False.\n",
      "  artwork_data = pd.read_csv('/Users/jiangyue/Desktop/artwork_data.csv',delimiter=',', encoding='utf-8')\n"
     ]
    }
   ],
   "source": [
    "#Opening and saving the files as dataframes\n",
    "artwork_data = pd.read_csv('/Users/jiangyue/Desktop/artwork_data.csv',delimiter=',', encoding='utf-8')\n",
    "artist_data = pd.read_csv('/Users/jiangyue/Desktop/artist_data.csv', delimiter=',', encoding='utf-8')\n",
    "#Change a common column of both dataframes to the same name\n",
    "artist_data.rename(columns={'name':'artist', 'id':'artistId'}, inplace = True)"
   ]
  },
  {
   "cell_type": "code",
   "execution_count": 162,
   "id": "7bc99d83",
   "metadata": {},
   "outputs": [],
   "source": [
    "#Merging two tables based on the common column\n",
    "artwork_artist = pd.merge(artwork_data, artist_data, on='artistId')"
   ]
  },
  {
   "cell_type": "markdown",
   "id": "dafa5e5e",
   "metadata": {},
   "source": [
    "## Q1:What is the number of works by male artists and female artists respectively?"
   ]
  },
  {
   "cell_type": "code",
   "execution_count": 165,
   "id": "82e9c887",
   "metadata": {},
   "outputs": [],
   "source": [
    "#Counting the number of works by male artists and female artists separately\n",
    "female_artwork_number = len(artwork_artist[artwork_artist[\"gender\"]=='Female'])\n",
    "male_artwork_number = len(artwork_artist[artwork_artist[\"gender\"]=='Male'])"
   ]
  },
  {
   "cell_type": "code",
   "execution_count": 166,
   "id": "06e6040f",
   "metadata": {},
   "outputs": [],
   "source": [
    "#Counting the number of male and female artists separately\n",
    "female_artist_number = len(artist_data[artist_data[\"gender\"]=='Female'])\n",
    "male_artist_number = len(artist_data[artist_data[\"gender\"]=='Male'])"
   ]
  },
  {
   "cell_type": "code",
   "execution_count": 167,
   "id": "1f47e45a",
   "metadata": {},
   "outputs": [
    {
     "data": {
      "text/plain": [
       "<BarContainer object of 1 artists>"
      ]
     },
     "execution_count": 167,
     "metadata": {},
     "output_type": "execute_result"
    },
    {
     "data": {
      "image/png": "[encoded data removed]",
      "text/plain": [
       "<Figure size 432x288 with 1 Axes>"
      ]
     },
     "metadata": {
      "needs_background": "light"
     },
     "output_type": "display_data"
    }
   ],
   "source": [
    "#Comparing the number of male and female artists with a bar chart\n",
    "plt.bar('Female Artist',female_artist_number)\n",
    "plt.bar('Man Artist',male_artist_number)"
   ]
  },
  {
   "cell_type": "code",
   "execution_count": 168,
   "id": "178f09bc",
   "metadata": {},
   "outputs": [
    {
     "data": {
      "text/plain": [
       "<BarContainer object of 1 artists>"
      ]
     },
     "execution_count": 168,
     "metadata": {},
     "output_type": "execute_result"
    },
    {
     "data": {
      "image/png": "[encoded data removed]",
      "text/plain": [
       "<Figure size 432x288 with 1 Axes>"
      ]
     },
     "metadata": {
      "needs_background": "light"
     },
     "output_type": "display_data"
    }
   ],
   "source": [
    "#Comparing the difference with a bar chart\n",
    "plt.bar('Female Artwork',female_artwork_number)\n",
    "plt.bar('Man Artwork',male_artwork_number)"
   ]
  },
  {
   "cell_type": "markdown",
   "id": "51823b5a",
   "metadata": {},
   "source": [
    "### Conclusion：\n",
    "The bar chart shows that the number of female artists and the number of their artworks is significantly lower than that of male artists. And the gap between the two genders in terms of the number of works is greater than the gap between the number of male and female artists."
   ]
  },
  {
   "cell_type": "markdown",
   "id": "c6adbd8f",
   "metadata": {},
   "source": [
    "## Q2:How does the numbers of works by male and female artists vary with the year of birth of the artist?"
   ]
  },
  {
   "cell_type": "code",
   "execution_count": 158,
   "id": "aa84ce4b",
   "metadata": {},
   "outputs": [],
   "source": [
    "#Separating the dataframe according to gender\n",
    "women_artwork = artwork_artist[artwork_artist['gender'] == 'Female']\n",
    "men_filter = artwork_artist[artwork_artist['gender'] == 'Male']"
   ]
  },
  {
   "cell_type": "code",
   "execution_count": 159,
   "id": "8e0c5f27",
   "metadata": {},
   "outputs": [
    {
     "data": {
      "text/plain": [
       "<AxesSubplot:xlabel='yearOfBirth', ylabel='gender'>"
      ]
     },
     "execution_count": 159,
     "metadata": {},
     "output_type": "execute_result"
    },
    {
     "data": {
      "image/png": "[encoded data removed]",
      "text/plain": [
       "<Figure size 432x288 with 1 Axes>"
      ]
     },
     "metadata": {
      "needs_background": "light"
     },
     "output_type": "display_data"
    },
    {
     "data": {
      "image/png": "[encoded data removed]",
      "text/plain": [
       "<Figure size 432x288 with 1 Axes>"
      ]
     },
     "metadata": {
      "needs_background": "light"
     },
     "output_type": "display_data"
    }
   ],
   "source": [
    "#Ploting scatters of artwork of the two genders according to the author's birth year\n",
    "women_filter.plot(kind = 'scatter', x = 'yearOfBirth', y = 'gender')\n",
    "men_filter.plot(kind = 'scatter', x = 'yearOfBirth', y = 'gender')"
   ]
  },
  {
   "cell_type": "markdown",
   "id": "a923dcc9",
   "metadata": {},
   "source": [
    "### Conclusion：\n",
    "As can be seen from the scatter plots, the works of female artists become more numerous with the year of birth, with more works by artists born after 1895 in particular. In contrast, the distribution of works by male artists is denser than that of female artists from 1600 onwards, but there is a break in the works of artists born nearer to 2000."
   ]
  }
 ],
 "metadata": {
  "kernelspec": {
   "display_name": "Python 3 (ipykernel)",
   "language": "python",
   "name": "python3"
  },
  "language_info": {
   "codemirror_mode": {
    "name": "ipython",
    "version": 3
   },
   "file_extension": ".py",
   "mimetype": "text/x-python",
   "name": "python",
   "nbconvert_exporter": "python",
   "pygments_lexer": "ipython3",
   "version": "3.9.12"
  }
 },
 "nbformat": 4,
 "nbformat_minor": 5
}
