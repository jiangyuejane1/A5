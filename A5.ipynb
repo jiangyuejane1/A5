{
 "cells": [
  {
   "cell_type": "code",
   "execution_count": 31,
   "id": "1ddfb3da",
   "metadata": {},
   "outputs": [],
   "source": [
    "import pandas as pd"
   ]
  },
  {
   "cell_type": "code",
   "execution_count": 32,
   "id": "9355dc49",
   "metadata": {},
   "outputs": [],
   "source": [
    "pd.options.display.max_rows = 100"
   ]
  },
  {
   "cell_type": "code",
   "execution_count": 33,
   "id": "e1516a24",
   "metadata": {},
   "outputs": [],
   "source": [
    "artistdata = pd.read_csv('/Users/jiangyue/Desktop/artist_data.csv', delimiter=',', encoding='utf-8')"
   ]
  },
  {
   "cell_type": "code",
   "execution_count": 46,
   "id": "492bca22",
   "metadata": {},
   "outputs": [
    {
     "data": {
      "text/html": [
       "<div>\n",
       "<style scoped>\n",
       "    .dataframe tbody tr th:only-of-type {\n",
       "        vertical-align: middle;\n",
       "    }\n",
       "\n",
       "    .dataframe tbody tr th {\n",
       "        vertical-align: top;\n",
       "    }\n",
       "\n",
       "    .dataframe thead th {\n",
       "        text-align: right;\n",
       "    }\n",
       "</style>\n",
       "<table border=\"1\" class=\"dataframe\">\n",
       "  <thead>\n",
       "    <tr style=\"text-align: right;\">\n",
       "      <th></th>\n",
       "      <th>id</th>\n",
       "      <th>name</th>\n",
       "      <th>gender</th>\n",
       "      <th>dates</th>\n",
       "      <th>yearOfBirth</th>\n",
       "      <th>yearOfDeath</th>\n",
       "      <th>placeOfBirth</th>\n",
       "      <th>placeOfDeath</th>\n",
       "      <th>url</th>\n",
       "    </tr>\n",
       "  </thead>\n",
       "  <tbody>\n",
       "    <tr>\n",
       "      <th>0</th>\n",
       "      <td>10093</td>\n",
       "      <td>Abakanowicz, Magdalena</td>\n",
       "      <td>Female</td>\n",
       "      <td>born 1930</td>\n",
       "      <td>1930.0</td>\n",
       "      <td>NaN</td>\n",
       "      <td>Polska</td>\n",
       "      <td>NaN</td>\n",
       "      <td>http://www.tate.org.uk/art/artists/magdalena-a...</td>\n",
       "    </tr>\n",
       "    <tr>\n",
       "      <th>1</th>\n",
       "      <td>0</td>\n",
       "      <td>Abbey, Edwin Austin</td>\n",
       "      <td>Male</td>\n",
       "      <td>1852–1911</td>\n",
       "      <td>1852.0</td>\n",
       "      <td>1911.0</td>\n",
       "      <td>Philadelphia, United States</td>\n",
       "      <td>London, United Kingdom</td>\n",
       "      <td>http://www.tate.org.uk/art/artists/edwin-austi...</td>\n",
       "    </tr>\n",
       "    <tr>\n",
       "      <th>2</th>\n",
       "      <td>2756</td>\n",
       "      <td>Abbott, Berenice</td>\n",
       "      <td>Female</td>\n",
       "      <td>1898–1991</td>\n",
       "      <td>1898.0</td>\n",
       "      <td>1991.0</td>\n",
       "      <td>Springfield, United States</td>\n",
       "      <td>Monson, United States</td>\n",
       "      <td>http://www.tate.org.uk/art/artists/berenice-ab...</td>\n",
       "    </tr>\n",
       "    <tr>\n",
       "      <th>3</th>\n",
       "      <td>1</td>\n",
       "      <td>Abbott, Lemuel Francis</td>\n",
       "      <td>Male</td>\n",
       "      <td>1760–1803</td>\n",
       "      <td>1760.0</td>\n",
       "      <td>1803.0</td>\n",
       "      <td>Leicestershire, United Kingdom</td>\n",
       "      <td>London, United Kingdom</td>\n",
       "      <td>http://www.tate.org.uk/art/artists/lemuel-fran...</td>\n",
       "    </tr>\n",
       "    <tr>\n",
       "      <th>4</th>\n",
       "      <td>622</td>\n",
       "      <td>Abrahams, Ivor</td>\n",
       "      <td>Male</td>\n",
       "      <td>born 1935</td>\n",
       "      <td>1935.0</td>\n",
       "      <td>NaN</td>\n",
       "      <td>Wigan, United Kingdom</td>\n",
       "      <td>NaN</td>\n",
       "      <td>http://www.tate.org.uk/art/artists/ivor-abraha...</td>\n",
       "    </tr>\n",
       "    <tr>\n",
       "      <th>...</th>\n",
       "      <td>...</td>\n",
       "      <td>...</td>\n",
       "      <td>...</td>\n",
       "      <td>...</td>\n",
       "      <td>...</td>\n",
       "      <td>...</td>\n",
       "      <td>...</td>\n",
       "      <td>...</td>\n",
       "      <td>...</td>\n",
       "    </tr>\n",
       "    <tr>\n",
       "      <th>3527</th>\n",
       "      <td>12542</td>\n",
       "      <td>Zorio, Gilberto</td>\n",
       "      <td>Male</td>\n",
       "      <td>born 1944</td>\n",
       "      <td>1944.0</td>\n",
       "      <td>NaN</td>\n",
       "      <td>Andorno Micca, Italia</td>\n",
       "      <td>NaN</td>\n",
       "      <td>http://www.tate.org.uk/art/artists/gilberto-zo...</td>\n",
       "    </tr>\n",
       "    <tr>\n",
       "      <th>3528</th>\n",
       "      <td>2186</td>\n",
       "      <td>Zox, Larry</td>\n",
       "      <td>Male</td>\n",
       "      <td>born 1936</td>\n",
       "      <td>1936.0</td>\n",
       "      <td>NaN</td>\n",
       "      <td>Des Moines, United States</td>\n",
       "      <td>NaN</td>\n",
       "      <td>http://www.tate.org.uk/art/artists/larry-zox-2186</td>\n",
       "    </tr>\n",
       "    <tr>\n",
       "      <th>3529</th>\n",
       "      <td>621</td>\n",
       "      <td>Zuccarelli, Francesco</td>\n",
       "      <td>Male</td>\n",
       "      <td>1702–1788</td>\n",
       "      <td>1702.0</td>\n",
       "      <td>1788.0</td>\n",
       "      <td>Italia</td>\n",
       "      <td>Firenze</td>\n",
       "      <td>http://www.tate.org.uk/art/artists/francesco-z...</td>\n",
       "    </tr>\n",
       "    <tr>\n",
       "      <th>3530</th>\n",
       "      <td>2187</td>\n",
       "      <td>Zuloaga, Ignacio</td>\n",
       "      <td>Male</td>\n",
       "      <td>1870–1945</td>\n",
       "      <td>1870.0</td>\n",
       "      <td>1945.0</td>\n",
       "      <td>España</td>\n",
       "      <td>España</td>\n",
       "      <td>http://www.tate.org.uk/art/artists/ignacio-zul...</td>\n",
       "    </tr>\n",
       "    <tr>\n",
       "      <th>3531</th>\n",
       "      <td>2188</td>\n",
       "      <td>Zyw, Aleksander</td>\n",
       "      <td>Male</td>\n",
       "      <td>1905–1995</td>\n",
       "      <td>1905.0</td>\n",
       "      <td>1995.0</td>\n",
       "      <td>Polska</td>\n",
       "      <td>NaN</td>\n",
       "      <td>http://www.tate.org.uk/art/artists/aleksander-...</td>\n",
       "    </tr>\n",
       "  </tbody>\n",
       "</table>\n",
       "<p>3532 rows × 9 columns</p>\n",
       "</div>"
      ],
      "text/plain": [
       "         id                    name  gender      dates  yearOfBirth  \\\n",
       "0     10093  Abakanowicz, Magdalena  Female  born 1930       1930.0   \n",
       "1         0     Abbey, Edwin Austin    Male  1852–1911       1852.0   \n",
       "2      2756        Abbott, Berenice  Female  1898–1991       1898.0   \n",
       "3         1  Abbott, Lemuel Francis    Male  1760–1803       1760.0   \n",
       "4       622          Abrahams, Ivor    Male  born 1935       1935.0   \n",
       "...     ...                     ...     ...        ...          ...   \n",
       "3527  12542         Zorio, Gilberto    Male  born 1944       1944.0   \n",
       "3528   2186              Zox, Larry    Male  born 1936       1936.0   \n",
       "3529    621   Zuccarelli, Francesco    Male  1702–1788       1702.0   \n",
       "3530   2187        Zuloaga, Ignacio    Male  1870–1945       1870.0   \n",
       "3531   2188         Zyw, Aleksander    Male  1905–1995       1905.0   \n",
       "\n",
       "      yearOfDeath                    placeOfBirth            placeOfDeath  \\\n",
       "0             NaN                          Polska                     NaN   \n",
       "1          1911.0     Philadelphia, United States  London, United Kingdom   \n",
       "2          1991.0      Springfield, United States   Monson, United States   \n",
       "3          1803.0  Leicestershire, United Kingdom  London, United Kingdom   \n",
       "4             NaN           Wigan, United Kingdom                     NaN   \n",
       "...           ...                             ...                     ...   \n",
       "3527          NaN           Andorno Micca, Italia                     NaN   \n",
       "3528          NaN       Des Moines, United States                     NaN   \n",
       "3529       1788.0                          Italia                 Firenze   \n",
       "3530       1945.0                          España                  España   \n",
       "3531       1995.0                          Polska                     NaN   \n",
       "\n",
       "                                                    url  \n",
       "0     http://www.tate.org.uk/art/artists/magdalena-a...  \n",
       "1     http://www.tate.org.uk/art/artists/edwin-austi...  \n",
       "2     http://www.tate.org.uk/art/artists/berenice-ab...  \n",
       "3     http://www.tate.org.uk/art/artists/lemuel-fran...  \n",
       "4     http://www.tate.org.uk/art/artists/ivor-abraha...  \n",
       "...                                                 ...  \n",
       "3527  http://www.tate.org.uk/art/artists/gilberto-zo...  \n",
       "3528  http://www.tate.org.uk/art/artists/larry-zox-2186  \n",
       "3529  http://www.tate.org.uk/art/artists/francesco-z...  \n",
       "3530  http://www.tate.org.uk/art/artists/ignacio-zul...  \n",
       "3531  http://www.tate.org.uk/art/artists/aleksander-...  \n",
       "\n",
       "[3532 rows x 9 columns]"
      ]
     },
     "execution_count": 46,
     "metadata": {},
     "output_type": "execute_result"
    }
   ],
   "source": [
    "artistdata"
   ]
  },
  {
   "cell_type": "code",
   "execution_count": 91,
   "id": "941d80fd",
   "metadata": {},
   "outputs": [],
   "source": [
    "# Q1:What is the difference in the number of both male and female artists?\n",
    "# Q2:Does the number of female artists change over time?\n",
    "\n",
    "# Extracting the data separately for male and female artists\n",
    "women_filter = artistdata[artistdata['gender'] == 'Female']\n",
    "men_filter = artistdata[artistdata['gender'] == 'Male']\n"
   ]
  },
  {
   "cell_type": "code",
   "execution_count": 93,
   "id": "d24f687a",
   "metadata": {},
   "outputs": [
    {
     "data": {
      "text/plain": [
       "gender\n",
       "Female     521\n",
       "Male      2895\n",
       "Name: id, dtype: int64"
      ]
     },
     "execution_count": 93,
     "metadata": {},
     "output_type": "execute_result"
    }
   ],
   "source": [
    "#Counting the number of male and female artists separately\n",
    "artistdata.groupby('gender').count()['id']"
   ]
  },
  {
   "cell_type": "code",
   "execution_count": 72,
   "id": "bb0d1f13",
   "metadata": {},
   "outputs": [],
   "source": [
    "women_number = women_filter['id'].count()\n",
    "men_number = men_filter['id'].count()"
   ]
  },
  {
   "cell_type": "code",
   "execution_count": 103,
   "id": "c8b81242",
   "metadata": {},
   "outputs": [
    {
     "data": {
      "text/plain": [
       "14.750849377123442"
      ]
     },
     "execution_count": 103,
     "metadata": {},
     "output_type": "execute_result"
    }
   ],
   "source": [
    "#Counting the proportion of female artists\n",
    "proportion_women = women_filter['id'].count()/len(artistdata['id'])*100\n",
    "proportion_women\n"
   ]
  },
  {
   "cell_type": "code",
   "execution_count": 104,
   "id": "6f194614",
   "metadata": {},
   "outputs": [
    {
     "data": {
      "text/plain": [
       "81.96489241223102"
      ]
     },
     "execution_count": 104,
     "metadata": {},
     "output_type": "execute_result"
    }
   ],
   "source": [
    "#Counting the proportion of male artists\n",
    "proportion_men = men_filter['id'].count()/len(artistdata['id'])*100\n",
    "proportion_men"
   ]
  },
  {
   "cell_type": "code",
   "execution_count": 105,
   "id": "b43946a9",
   "metadata": {},
   "outputs": [
    {
     "data": {
      "text/plain": [
       "67.21404303510758"
      ]
     },
     "execution_count": 105,
     "metadata": {},
     "output_type": "execute_result"
    }
   ],
   "source": [
    "#Calculating the difference in the percentage of male and female artists\n",
    "difference_number = (proportion_men-proportion_women)\n",
    "difference_number"
   ]
  },
  {
   "cell_type": "code",
   "execution_count": 79,
   "id": "f5ec1bfb",
   "metadata": {},
   "outputs": [],
   "source": [
    "import matplotlib.pyplot as plt"
   ]
  },
  {
   "cell_type": "code",
   "execution_count": 81,
   "id": "3a933271",
   "metadata": {},
   "outputs": [
    {
     "data": {
      "image/png": "[encoded data removed]",
      "text/plain": [
       "<Figure size 432x288 with 1 Axes>"
      ]
     },
     "metadata": {
      "needs_background": "light"
     },
     "output_type": "display_data"
    }
   ],
   "source": [
    "#Showing the distribution of female artists in terms of year of birth\n",
    "women_filter.plot(kind = 'scatter', x = 'yearOfBirth', y = 'gender')\n",
    "\n",
    "plt.show()"
   ]
  },
  {
   "cell_type": "code",
   "execution_count": 106,
   "id": "8b138fb8",
   "metadata": {},
   "outputs": [],
   "source": [
    "#In conclusion, male artists make up about 81.96% of the artists and female artists make up about 14.75%.\n",
    "#The difference between the two is approximately 67.21%. \n",
    "#Besides，I also wanted to link the artist and artwork tables together to explore the gender distribution in all the artworks. But I didn't have enough time to do it all.\n",
    "#The number of female artists increased over time."
   ]
  }
 ],
 "metadata": {
  "kernelspec": {
   "display_name": "Python 3 (ipykernel)",
   "language": "python",
   "name": "python3"
  },
  "language_info": {
   "codemirror_mode": {
    "name": "ipython",
    "version": 3
   },
   "file_extension": ".py",
   "mimetype": "text/x-python",
   "name": "python",
   "nbconvert_exporter": "python",
   "pygments_lexer": "ipython3",
   "version": "3.9.12"
  }
 },
 "nbformat": 4,
 "nbformat_minor": 5
}
